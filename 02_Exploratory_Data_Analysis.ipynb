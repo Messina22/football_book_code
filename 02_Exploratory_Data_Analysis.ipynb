{
 "cells": [
  {
   "cell_type": "code",
   "execution_count": 1,
   "metadata": {},
   "outputs": [],
   "source": [
    "## Load packages for all chapter\n",
    "import pandas as pd\n",
    "import numpy as np\n",
    "import nfl_data_py as nfl\n",
    "import seaborn as sns\n",
    "import matplotlib.pyplot as plt\n",
    "import os"
   ]
  },
  {
   "cell_type": "code",
   "execution_count": 2,
   "metadata": {},
   "outputs": [],
   "source": [
    "## import data\n",
    "chap_2_file = \"./data/pbp_py_chap_2.csv\"\n",
    "\n",
    "if os.path.isfile(chap_2_file):\n",
    "    pbp_py = pd.read_csv(chap_2_file, low_memory=False)\n",
    "else:\n",
    "    seasons = range(2016, 2022 + 1)\n",
    "    pbp_py = nfl.import_pbp_data(seasons)\n",
    "    pbp_py.to_csv(chap_2_file)"
   ]
  },
  {
   "cell_type": "code",
   "execution_count": 3,
   "metadata": {},
   "outputs": [],
   "source": [
    "## extract passing data\n",
    "pbp_py_p = pbp_py.query(\"play_type == 'pass' & air_yards.notnull()\").reset_index()"
   ]
  },
  {
   "cell_type": "code",
   "execution_count": 4,
   "metadata": {},
   "outputs": [],
   "source": [
    "## create filtering criteria\n",
    "pbp_py_p[\"pass_length_air_yards\"] = np.where(\n",
    "    pbp_py_p[\"air_yards\"] >= 20, \"long\", \"short\"\n",
    ")"
   ]
  },
  {
   "cell_type": "code",
   "execution_count": 5,
   "metadata": {},
   "outputs": [],
   "source": [
    "## replace missing values\n",
    "pbp_py_p[\"passing_yards\"] = np.where(\n",
    "    pbp_py_p[\"passing_yards\"].isnull(), 0, pbp_py_p[\"passing_yards\"]\n",
    ")"
   ]
  },
  {
   "cell_type": "code",
   "execution_count": 6,
   "metadata": {},
   "outputs": [
    {
     "data": {
      "text/plain": [
       "count    131606.000000\n",
       "mean          7.192111\n",
       "std           9.667021\n",
       "min         -20.000000\n",
       "25%           0.000000\n",
       "50%           5.000000\n",
       "75%          11.000000\n",
       "max          98.000000\n",
       "Name: passing_yards, dtype: float64"
      ]
     },
     "execution_count": 6,
     "metadata": {},
     "output_type": "execute_result"
    }
   ],
   "source": [
    "## describe passing data\n",
    "pbp_py_p[\"passing_yards\"].describe()"
   ]
  },
  {
   "cell_type": "code",
   "execution_count": 7,
   "metadata": {},
   "outputs": [
    {
     "data": {
      "text/plain": [
       "count    116087.000000\n",
       "mean          6.526812\n",
       "std           7.697057\n",
       "min         -20.000000\n",
       "25%           0.000000\n",
       "50%           5.000000\n",
       "75%          10.000000\n",
       "max          95.000000\n",
       "Name: passing_yards, dtype: float64"
      ]
     },
     "execution_count": 7,
     "metadata": {},
     "output_type": "execute_result"
    }
   ],
   "source": [
    "## summarize by pass length\n",
    "pbp_py_p.query('pass_length_air_yards == \"short\"')[\"passing_yards\"].describe()"
   ]
  },
  {
   "cell_type": "code",
   "execution_count": 8,
   "metadata": {},
   "outputs": [
    {
     "data": {
      "text/plain": [
       "count    15519.000000\n",
       "mean        12.168761\n",
       "std         17.923951\n",
       "min          0.000000\n",
       "25%          0.000000\n",
       "50%          0.000000\n",
       "75%         26.000000\n",
       "max         98.000000\n",
       "Name: passing_yards, dtype: float64"
      ]
     },
     "execution_count": 8,
     "metadata": {},
     "output_type": "execute_result"
    }
   ],
   "source": [
    "## filter and only look at long passes\n",
    "pbp_py_p.query('pass_length_air_yards == \"long\"')[\"passing_yards\"].describe()"
   ]
  },
  {
   "cell_type": "code",
   "execution_count": 9,
   "metadata": {},
   "outputs": [
    {
     "data": {
      "text/plain": [
       "count    116086.000000\n",
       "mean          0.119606\n",
       "std           1.426238\n",
       "min         -13.031219\n",
       "25%          -0.606135\n",
       "50%          -0.002100\n",
       "75%           0.959107\n",
       "max           8.241420\n",
       "Name: epa, dtype: float64"
      ]
     },
     "execution_count": 9,
     "metadata": {},
     "output_type": "execute_result"
    }
   ],
   "source": [
    "## look at EPA for short passes\n",
    "pbp_py_p.query('pass_length_air_yards == \"short\"')[\"epa\"].describe()"
   ]
  },
  {
   "cell_type": "code",
   "execution_count": 10,
   "metadata": {},
   "outputs": [
    {
     "data": {
      "text/plain": [
       "count    15519.000000\n",
       "mean         0.382649\n",
       "std          2.185551\n",
       "min        -10.477922\n",
       "25%         -0.827421\n",
       "50%         -0.465344\n",
       "75%          2.136431\n",
       "max          8.789743\n",
       "Name: epa, dtype: float64"
      ]
     },
     "execution_count": 10,
     "metadata": {},
     "output_type": "execute_result"
    }
   ],
   "source": [
    "## look at EPA for long passes\n",
    "pbp_py_p.query('pass_length_air_yards == \"long\"')[\"epa\"].describe()"
   ]
  },
  {
   "cell_type": "code",
   "execution_count": 11,
   "metadata": {},
   "outputs": [
    {
     "name": "stderr",
     "output_type": "stream",
     "text": [
      "/Users/nick/anaconda3/envs/football/lib/python3.12/site-packages/seaborn/_oldcore.py:1119: FutureWarning: use_inf_as_na option is deprecated and will be removed in a future version. Convert inf values to NaN before operating instead.\n",
      "  with pd.option_context('mode.use_inf_as_na', True):\n"
     ]
    },
    {
     "data": {
      "image/png": "[encoded data removed]",
      "text/plain": [
       "<Figure size 500x500 with 1 Axes>"
      ]
     },
     "metadata": {},
     "output_type": "display_data"
    }
   ],
   "source": [
    "## histograms\n",
    "sns.displot(data=pbp_py, x=\"passing_yards\")\n",
    "plt.show()"
   ]
  },
  {
   "cell_type": "code",
   "execution_count": 12,
   "metadata": {},
   "outputs": [],
   "source": [
    "## set plot setting for rest of chapter\n",
    "sns.set_theme(style=\"whitegrid\", palette=\"colorblind\")"
   ]
  },
  {
   "cell_type": "code",
   "execution_count": 13,
   "metadata": {},
   "outputs": [],
   "source": [
    "## filter out for short passes\n",
    "pbp_py_p_short = pbp_py_p.query('pass_length_air_yards == \"short\"')"
   ]
  },
  {
   "cell_type": "code",
   "execution_count": 14,
   "metadata": {},
   "outputs": [
    {
     "name": "stderr",
     "output_type": "stream",
     "text": [
      "/Users/nick/anaconda3/envs/football/lib/python3.12/site-packages/seaborn/_oldcore.py:1119: FutureWarning: use_inf_as_na option is deprecated and will be removed in a future version. Convert inf values to NaN before operating instead.\n",
      "  with pd.option_context('mode.use_inf_as_na', True):\n"
     ]
    },
    {
     "data": {
      "image/png": "[encoded data removed]",
      "text/plain": [
       "<Figure size 500x500 with 1 Axes>"
      ]
     },
     "metadata": {},
     "output_type": "display_data"
    }
   ],
   "source": [
    "## Clean up the plot\n",
    "# Plot, change labels, and then show the output\n",
    "pbp_py_hist_short = sns.displot(data=pbp_py_p_short, binwidth=1, x=\"passing_yards\")\n",
    "pbp_py_hist_short.set_axis_labels(\n",
    "    \"Yards gained (or lost) during a passing play\", \"Count\"\n",
    ")\n",
    "plt.show()"
   ]
  },
  {
   "cell_type": "code",
   "execution_count": 15,
   "metadata": {},
   "outputs": [
    {
     "data": {
      "image/png": "[encoded data removed]",
      "text/plain": [
       "<Figure size 640x480 with 1 Axes>"
      ]
     },
     "metadata": {},
     "output_type": "display_data"
    }
   ],
   "source": [
    "## pass boxplot Python\n",
    "pass_boxplot = sns.boxplot(data=pbp_py_p, x=\"pass_length_air_yards\", y=\"passing_yards\")\n",
    "pass_boxplot.set(\n",
    "    xlabel=\"Pass length (long >= 20 yards, short < 20 yards)\",\n",
    "    ylabel=\"Yards gained (or lost) during a passing play\",\n",
    ")\n",
    "plt.show()"
   ]
  },
  {
   "cell_type": "code",
   "execution_count": 16,
   "metadata": {},
   "outputs": [],
   "source": [
    "## player-level stability\n",
    "## aggregate data\n",
    "pbp_py_p_s = pbp_py_p.groupby([\"passer_id\", \"passer\", \"season\"]).agg(\n",
    "    {\"passing_yards\": [\"mean\", \"count\"]}\n",
    ")"
   ]
  },
  {
   "cell_type": "code",
   "execution_count": 17,
   "metadata": {},
   "outputs": [],
   "source": [
    "## reformat columns\n",
    "pbp_py_p_s.columns = list(map(\"_\".join, pbp_py_p_s.columns.values))"
   ]
  },
  {
   "cell_type": "code",
   "execution_count": 18,
   "metadata": {},
   "outputs": [],
   "source": [
    "## rename columns\n",
    "pbp_py_p_s.rename(\n",
    "    columns={\"passing_yards_mean\": \"ypa\", \"passing_yards_count\": \"n\"}, inplace=True\n",
    ")"
   ]
  },
  {
   "cell_type": "code",
   "execution_count": 19,
   "metadata": {},
   "outputs": [
    {
     "data": {
      "text/html": [
       "<div>\n",
       "<style scoped>\n",
       "    .dataframe tbody tr th:only-of-type {\n",
       "        vertical-align: middle;\n",
       "    }\n",
       "\n",
       "    .dataframe tbody tr th {\n",
       "        vertical-align: top;\n",
       "    }\n",
       "\n",
       "    .dataframe thead th {\n",
       "        text-align: right;\n",
       "    }\n",
       "</style>\n",
       "<table border=\"1\" class=\"dataframe\">\n",
       "  <thead>\n",
       "    <tr style=\"text-align: right;\">\n",
       "      <th></th>\n",
       "      <th></th>\n",
       "      <th></th>\n",
       "      <th>ypa</th>\n",
       "      <th>n</th>\n",
       "    </tr>\n",
       "    <tr>\n",
       "      <th>passer_id</th>\n",
       "      <th>passer</th>\n",
       "      <th>season</th>\n",
       "      <th></th>\n",
       "      <th></th>\n",
       "    </tr>\n",
       "  </thead>\n",
       "  <tbody>\n",
       "    <tr>\n",
       "      <th>00-0035544</th>\n",
       "      <th>T.Kennedy</th>\n",
       "      <th>2021</th>\n",
       "      <td>75.0</td>\n",
       "      <td>1</td>\n",
       "    </tr>\n",
       "    <tr>\n",
       "      <th>00-0033132</th>\n",
       "      <th>K.Byard</th>\n",
       "      <th>2018</th>\n",
       "      <td>66.0</td>\n",
       "      <td>1</td>\n",
       "    </tr>\n",
       "    <tr>\n",
       "      <th>00-0031235</th>\n",
       "      <th>O.Beckham</th>\n",
       "      <th>2018</th>\n",
       "      <td>53.0</td>\n",
       "      <td>2</td>\n",
       "    </tr>\n",
       "    <tr>\n",
       "      <th>00-0030669</th>\n",
       "      <th>A.Wilson</th>\n",
       "      <th>2018</th>\n",
       "      <td>52.0</td>\n",
       "      <td>1</td>\n",
       "    </tr>\n",
       "    <tr>\n",
       "      <th>00-0029632</th>\n",
       "      <th>M.Sanu</th>\n",
       "      <th>2017</th>\n",
       "      <td>51.0</td>\n",
       "      <td>1</td>\n",
       "    </tr>\n",
       "  </tbody>\n",
       "</table>\n",
       "</div>"
      ],
      "text/plain": [
       "                              ypa  n\n",
       "passer_id  passer    season         \n",
       "00-0035544 T.Kennedy 2021    75.0  1\n",
       "00-0033132 K.Byard   2018    66.0  1\n",
       "00-0031235 O.Beckham 2018    53.0  2\n",
       "00-0030669 A.Wilson  2018    52.0  1\n",
       "00-0029632 M.Sanu    2017    51.0  1"
      ]
     },
     "execution_count": 19,
     "metadata": {},
     "output_type": "execute_result"
    }
   ],
   "source": [
    "## look at results\n",
    "## you will likely want to not include .head() to see all results\n",
    "pbp_py_p_s.sort_values(by=[\"ypa\"], ascending=False).head()"
   ]
  },
  {
   "cell_type": "code",
   "execution_count": 20,
   "metadata": {},
   "outputs": [],
   "source": [
    "## select at players with more than 100 yards\n",
    "pbp_py_p_s_100 = pbp_py_p_s.query(\"n >= 100\").sort_values(by=[\"ypa\"], ascending=False)"
   ]
  },
  {
   "cell_type": "code",
   "execution_count": 21,
   "metadata": {},
   "outputs": [
    {
     "data": {
      "text/html": [
       "<div>\n",
       "<style scoped>\n",
       "    .dataframe tbody tr th:only-of-type {\n",
       "        vertical-align: middle;\n",
       "    }\n",
       "\n",
       "    .dataframe tbody tr th {\n",
       "        vertical-align: top;\n",
       "    }\n",
       "\n",
       "    .dataframe thead th {\n",
       "        text-align: right;\n",
       "    }\n",
       "</style>\n",
       "<table border=\"1\" class=\"dataframe\">\n",
       "  <thead>\n",
       "    <tr style=\"text-align: right;\">\n",
       "      <th></th>\n",
       "      <th></th>\n",
       "      <th></th>\n",
       "      <th>ypa</th>\n",
       "      <th>n</th>\n",
       "    </tr>\n",
       "    <tr>\n",
       "      <th>passer_id</th>\n",
       "      <th>passer</th>\n",
       "      <th>season</th>\n",
       "      <th></th>\n",
       "      <th></th>\n",
       "    </tr>\n",
       "  </thead>\n",
       "  <tbody>\n",
       "    <tr>\n",
       "      <th>00-0023682</th>\n",
       "      <th>R.Fitzpatrick</th>\n",
       "      <th>2018</th>\n",
       "      <td>9.617886</td>\n",
       "      <td>246</td>\n",
       "    </tr>\n",
       "    <tr>\n",
       "      <th>00-0026143</th>\n",
       "      <th>M.Ryan</th>\n",
       "      <th>2016</th>\n",
       "      <td>9.442155</td>\n",
       "      <td>631</td>\n",
       "    </tr>\n",
       "    <tr>\n",
       "      <th>00-0029701</th>\n",
       "      <th>R.Tannehill</th>\n",
       "      <th>2019</th>\n",
       "      <td>9.069971</td>\n",
       "      <td>343</td>\n",
       "    </tr>\n",
       "    <tr>\n",
       "      <th>00-0033537</th>\n",
       "      <th>D.Watson</th>\n",
       "      <th>2020</th>\n",
       "      <td>8.898524</td>\n",
       "      <td>542</td>\n",
       "    </tr>\n",
       "    <tr>\n",
       "      <th>00-0036212</th>\n",
       "      <th>T.Tagovailoa</th>\n",
       "      <th>2022</th>\n",
       "      <td>8.892231</td>\n",
       "      <td>399</td>\n",
       "    </tr>\n",
       "  </tbody>\n",
       "</table>\n",
       "</div>"
      ],
      "text/plain": [
       "                                      ypa    n\n",
       "passer_id  passer        season               \n",
       "00-0023682 R.Fitzpatrick 2018    9.617886  246\n",
       "00-0026143 M.Ryan        2016    9.442155  631\n",
       "00-0029701 R.Tannehill   2019    9.069971  343\n",
       "00-0033537 D.Watson      2020    8.898524  542\n",
       "00-0036212 T.Tagovailoa  2022    8.892231  399"
      ]
     },
     "execution_count": 21,
     "metadata": {},
     "output_type": "execute_result"
    }
   ],
   "source": [
    "## Look at results\n",
    "pbp_py_p_s_100.head()"
   ]
  },
  {
   "cell_type": "code",
   "execution_count": 22,
   "metadata": {},
   "outputs": [],
   "source": [
    "## calculate at play-by-play passer data by season and pass length\n",
    "pbp_py_p_s_pl = pbp_py_p.groupby(\n",
    "    [\"passer_id\", \"passer\", \"season\", \"pass_length_air_yards\"]\n",
    ").agg({\"passing_yards\": [\"mean\", \"count\"]})\n"
   ]
  },
  {
   "cell_type": "code",
   "execution_count": 23,
   "metadata": {},
   "outputs": [],
   "source": [
    "## format and rename columns\n",
    "pbp_py_p_s_pl.columns = list(map(\"_\".join, pbp_py_p_s_pl.columns.values))\n",
    "pbp_py_p_s_pl.rename(\n",
    "    columns={\"passing_yards_mean\": \"ypa\", \"passing_yards_count\": \"n\"}, inplace=True\n",
    ")"
   ]
  },
  {
   "cell_type": "code",
   "execution_count": 24,
   "metadata": {},
   "outputs": [],
   "source": [
    "## reset pandas index\n",
    "pbp_py_p_s_pl.reset_index(inplace=True)"
   ]
  },
  {
   "cell_type": "code",
   "execution_count": 25,
   "metadata": {},
   "outputs": [],
   "source": [
    "## select only short passing data\n",
    "q_value = (\n",
    "    \"(n >= 100 & \"\n",
    "    + 'pass_length_air_yards == \"short\") | '\n",
    "    + \"(n >= 30 & \"\n",
    "    + 'pass_length_air_yards == \"long\")'\n",
    ")\n",
    "pbp_py_p_s_pl = pbp_py_p_s_pl.query(q_value).reset_index()"
   ]
  },
  {
   "cell_type": "code",
   "execution_count": 26,
   "metadata": {},
   "outputs": [],
   "source": [
    "## only save select columns\n",
    "cols_save = [\"passer_id\", \"passer\", \"season\", \"pass_length_air_yards\", \"ypa\"]\n",
    "air_yards_py = pbp_py_p_s_pl[cols_save].copy()"
   ]
  },
  {
   "cell_type": "code",
   "execution_count": 27,
   "metadata": {},
   "outputs": [],
   "source": [
    "## create lag data\n",
    "air_yards_lag_py = air_yards_py.copy()\n",
    "air_yards_lag_py[\"season\"] += 1\n",
    "air_yards_lag_py.rename(columns={\"ypa\": \"ypa_last\"}, inplace=True)"
   ]
  },
  {
   "cell_type": "code",
   "execution_count": 28,
   "metadata": {},
   "outputs": [
    {
     "name": "stdout",
     "output_type": "stream",
     "text": [
      "   pass_length_air_yards     passer  season        ypa   ypa_last\n",
      "47                  long  A.Rodgers    2019  12.092593  12.011628\n",
      "49                  long  A.Rodgers    2020  16.097826  12.092593\n",
      "51                  long  A.Rodgers    2021  14.302632  16.097826\n",
      "53                  long  A.Rodgers    2022  10.312500  14.302632\n",
      "45                 short  A.Rodgers    2017   6.041475   6.693523\n",
      "46                 short  A.Rodgers    2018   6.697446   6.041475\n",
      "48                 short  A.Rodgers    2019   6.207224   6.697446\n",
      "50                 short  A.Rodgers    2020   6.718447   6.207224\n",
      "52                 short  A.Rodgers    2021   6.777083   6.718447\n",
      "54                 short  A.Rodgers    2022   6.239130   6.777083\n",
      "0                   long    T.Brady    2017  13.264706  15.768116\n",
      "2                   long    T.Brady    2018  10.232877  13.264706\n",
      "4                   long    T.Brady    2019  10.828571  10.232877\n",
      "6                   long    T.Brady    2020  12.252101  10.828571\n",
      "8                   long    T.Brady    2021  12.242424  12.252101\n",
      "10                  long    T.Brady    2022  10.802469  12.242424\n",
      "1                  short    T.Brady    2017   7.071429   7.163022\n",
      "3                  short    T.Brady    2018   7.356452   7.071429\n",
      "5                  short    T.Brady    2019   6.048276   7.356452\n",
      "7                  short    T.Brady    2020   6.777600   6.048276\n",
      "9                  short    T.Brady    2021   6.634697   6.777600\n",
      "11                 short    T.Brady    2022   5.832168   6.634697\n"
     ]
    }
   ],
   "source": [
    "## merge lag data back in\n",
    "pbp_py_p_s_pl = air_yards_py.merge(\n",
    "    air_yards_lag_py,\n",
    "    how=\"inner\",\n",
    "    on=[\"passer_id\", \"passer\", \"season\", \"pass_length_air_yards\"],\n",
    ")\n",
    "\n",
    "## Look at merged data for two passers\n",
    "print(\n",
    "    pbp_py_p_s_pl[[\"pass_length_air_yards\", \"passer\", \"season\", \"ypa\", \"ypa_last\"]]\n",
    "    .query('passer == \"T.Brady\" | passer == \"A.Rodgers\"')\n",
    "    .sort_values([\"passer\", \"pass_length_air_yards\", \"season\"])\n",
    "    .to_string()\n",
    ")"
   ]
  },
  {
   "cell_type": "code",
   "execution_count": 29,
   "metadata": {},
   "outputs": [
    {
     "name": "stdout",
     "output_type": "stream",
     "text": [
      "<class 'pandas.core.frame.DataFrame'>\n",
      "RangeIndex: 317 entries, 0 to 316\n",
      "Data columns (total 6 columns):\n",
      " #   Column                 Non-Null Count  Dtype  \n",
      "---  ------                 --------------  -----  \n",
      " 0   passer_id              317 non-null    object \n",
      " 1   passer                 317 non-null    object \n",
      " 2   season                 317 non-null    int64  \n",
      " 3   pass_length_air_yards  317 non-null    object \n",
      " 4   ypa                    317 non-null    float64\n",
      " 5   ypa_last               317 non-null    float64\n",
      "dtypes: float64(2), int64(1), object(3)\n",
      "memory usage: 15.0+ KB\n"
     ]
    }
   ],
   "source": [
    "## Look at the info the dataframe\n",
    "pbp_py_p_s_pl.info()"
   ]
  },
  {
   "cell_type": "code",
   "execution_count": 30,
   "metadata": {},
   "outputs": [
    {
     "data": {
      "text/plain": [
       "65"
      ]
     },
     "execution_count": 30,
     "metadata": {},
     "output_type": "execute_result"
    }
   ],
   "source": [
    "## see number of quarterbacks\n",
    "len(pbp_py_p_s_pl.passer_id.unique())"
   ]
  },
  {
   "cell_type": "code",
   "execution_count": 31,
   "metadata": {},
   "outputs": [
    {
     "data": {
      "image/png": "[encoded data removed]",
      "text/plain": [
       "<Figure size 1000x500 with 2 Axes>"
      ]
     },
     "metadata": {},
     "output_type": "display_data"
    }
   ],
   "source": [
    "## plot scatterplot with Python\n",
    "sns.lmplot(data=pbp_py_p_s_pl, x=\"ypa\", y=\"ypa_last\", col=\"pass_length_air_yards\")\n",
    "plt.show()"
   ]
  },
  {
   "cell_type": "code",
   "execution_count": 32,
   "metadata": {},
   "outputs": [
    {
     "data": {
      "text/html": [
       "<div>\n",
       "<style scoped>\n",
       "    .dataframe tbody tr th:only-of-type {\n",
       "        vertical-align: middle;\n",
       "    }\n",
       "\n",
       "    .dataframe tbody tr th {\n",
       "        vertical-align: top;\n",
       "    }\n",
       "\n",
       "    .dataframe thead th {\n",
       "        text-align: right;\n",
       "    }\n",
       "</style>\n",
       "<table border=\"1\" class=\"dataframe\">\n",
       "  <thead>\n",
       "    <tr style=\"text-align: right;\">\n",
       "      <th></th>\n",
       "      <th></th>\n",
       "      <th>ypa</th>\n",
       "      <th>ypa_last</th>\n",
       "    </tr>\n",
       "    <tr>\n",
       "      <th>pass_length_air_yards</th>\n",
       "      <th></th>\n",
       "      <th></th>\n",
       "      <th></th>\n",
       "    </tr>\n",
       "  </thead>\n",
       "  <tbody>\n",
       "    <tr>\n",
       "      <th rowspan=\"2\" valign=\"top\">long</th>\n",
       "      <th>ypa</th>\n",
       "      <td>1.000000</td>\n",
       "      <td>0.233890</td>\n",
       "    </tr>\n",
       "    <tr>\n",
       "      <th>ypa_last</th>\n",
       "      <td>0.233890</td>\n",
       "      <td>1.000000</td>\n",
       "    </tr>\n",
       "    <tr>\n",
       "      <th rowspan=\"2\" valign=\"top\">short</th>\n",
       "      <th>ypa</th>\n",
       "      <td>1.000000</td>\n",
       "      <td>0.438479</td>\n",
       "    </tr>\n",
       "    <tr>\n",
       "      <th>ypa_last</th>\n",
       "      <td>0.438479</td>\n",
       "      <td>1.000000</td>\n",
       "    </tr>\n",
       "  </tbody>\n",
       "</table>\n",
       "</div>"
      ],
      "text/plain": [
       "                                     ypa  ypa_last\n",
       "pass_length_air_yards                             \n",
       "long                  ypa       1.000000  0.233890\n",
       "                      ypa_last  0.233890  1.000000\n",
       "short                 ypa       1.000000  0.438479\n",
       "                      ypa_last  0.438479  1.000000"
      ]
     },
     "execution_count": 32,
     "metadata": {},
     "output_type": "execute_result"
    }
   ],
   "source": [
    "## Look at correlation in Python\n",
    "pbp_py_p_s_pl.query(\"ypa.notnull() & ypa_last.notnull()\").groupby(\n",
    "    \"pass_length_air_yards\"\n",
    ")[[\"ypa\", \"ypa_last\"]].corr()"
   ]
  },
  {
   "cell_type": "code",
   "execution_count": 33,
   "metadata": {},
   "outputs": [
    {
     "data": {
      "text/html": [
       "<div>\n",
       "<style scoped>\n",
       "    .dataframe tbody tr th:only-of-type {\n",
       "        vertical-align: middle;\n",
       "    }\n",
       "\n",
       "    .dataframe tbody tr th {\n",
       "        vertical-align: top;\n",
       "    }\n",
       "\n",
       "    .dataframe thead th {\n",
       "        text-align: right;\n",
       "    }\n",
       "</style>\n",
       "<table border=\"1\" class=\"dataframe\">\n",
       "  <thead>\n",
       "    <tr style=\"text-align: right;\">\n",
       "      <th></th>\n",
       "      <th>passer_id</th>\n",
       "      <th>passer</th>\n",
       "      <th>ypa</th>\n",
       "    </tr>\n",
       "  </thead>\n",
       "  <tbody>\n",
       "    <tr>\n",
       "      <th>41</th>\n",
       "      <td>00-0023436</td>\n",
       "      <td>A.Smith</td>\n",
       "      <td>19.338235</td>\n",
       "    </tr>\n",
       "    <tr>\n",
       "      <th>79</th>\n",
       "      <td>00-0026498</td>\n",
       "      <td>M.Stafford</td>\n",
       "      <td>17.830769</td>\n",
       "    </tr>\n",
       "    <tr>\n",
       "      <th>12</th>\n",
       "      <td>00-0020531</td>\n",
       "      <td>D.Brees</td>\n",
       "      <td>16.632353</td>\n",
       "    </tr>\n",
       "    <tr>\n",
       "      <th>191</th>\n",
       "      <td>00-0032950</td>\n",
       "      <td>C.Wentz</td>\n",
       "      <td>13.555556</td>\n",
       "    </tr>\n",
       "    <tr>\n",
       "      <th>33</th>\n",
       "      <td>00-0022942</td>\n",
       "      <td>P.Rivers</td>\n",
       "      <td>13.347826</td>\n",
       "    </tr>\n",
       "    <tr>\n",
       "      <th>0</th>\n",
       "      <td>00-0019596</td>\n",
       "      <td>T.Brady</td>\n",
       "      <td>13.264706</td>\n",
       "    </tr>\n",
       "    <tr>\n",
       "      <th>129</th>\n",
       "      <td>00-0029604</td>\n",
       "      <td>K.Cousins</td>\n",
       "      <td>12.847458</td>\n",
       "    </tr>\n",
       "    <tr>\n",
       "      <th>114</th>\n",
       "      <td>00-0029263</td>\n",
       "      <td>R.Wilson</td>\n",
       "      <td>12.738636</td>\n",
       "    </tr>\n",
       "    <tr>\n",
       "      <th>203</th>\n",
       "      <td>00-0033077</td>\n",
       "      <td>D.Prescott</td>\n",
       "      <td>12.585366</td>\n",
       "    </tr>\n",
       "    <tr>\n",
       "      <th>109</th>\n",
       "      <td>00-0028986</td>\n",
       "      <td>C.Keenum</td>\n",
       "      <td>11.904762</td>\n",
       "    </tr>\n",
       "  </tbody>\n",
       "</table>\n",
       "</div>"
      ],
      "text/plain": [
       "      passer_id      passer        ypa\n",
       "41   00-0023436     A.Smith  19.338235\n",
       "79   00-0026498  M.Stafford  17.830769\n",
       "12   00-0020531     D.Brees  16.632353\n",
       "191  00-0032950     C.Wentz  13.555556\n",
       "33   00-0022942    P.Rivers  13.347826\n",
       "0    00-0019596     T.Brady  13.264706\n",
       "129  00-0029604   K.Cousins  12.847458\n",
       "114  00-0029263    R.Wilson  12.738636\n",
       "203  00-0033077  D.Prescott  12.585366\n",
       "109  00-0028986    C.Keenum  11.904762"
      ]
     },
     "execution_count": 33,
     "metadata": {},
     "output_type": "execute_result"
    }
   ],
   "source": [
    "## 2017 YPA leaderboard\n",
    "pbp_py_p_s_pl.query('pass_length_air_yards == \"long\" & season == 2017')[\n",
    "    [\"passer_id\", \"passer\", \"ypa\"]\n",
    "].sort_values([\"ypa\"], ascending=False).head(10)"
   ]
  },
  {
   "cell_type": "markdown",
   "metadata": {},
   "source": []
  },
  {
   "cell_type": "code",
   "execution_count": 34,
   "metadata": {},
   "outputs": [
    {
     "data": {
      "text/html": [
       "<div>\n",
       "<style scoped>\n",
       "    .dataframe tbody tr th:only-of-type {\n",
       "        vertical-align: middle;\n",
       "    }\n",
       "\n",
       "    .dataframe tbody tr th {\n",
       "        vertical-align: top;\n",
       "    }\n",
       "\n",
       "    .dataframe thead th {\n",
       "        text-align: right;\n",
       "    }\n",
       "</style>\n",
       "<table border=\"1\" class=\"dataframe\">\n",
       "  <thead>\n",
       "    <tr style=\"text-align: right;\">\n",
       "      <th></th>\n",
       "      <th>passer_id</th>\n",
       "      <th>passer</th>\n",
       "      <th>ypa</th>\n",
       "    </tr>\n",
       "  </thead>\n",
       "  <tbody>\n",
       "    <tr>\n",
       "      <th>116</th>\n",
       "      <td>00-0029263</td>\n",
       "      <td>R.Wilson</td>\n",
       "      <td>15.597403</td>\n",
       "    </tr>\n",
       "    <tr>\n",
       "      <th>14</th>\n",
       "      <td>00-0020531</td>\n",
       "      <td>D.Brees</td>\n",
       "      <td>14.903226</td>\n",
       "    </tr>\n",
       "    <tr>\n",
       "      <th>205</th>\n",
       "      <td>00-0033077</td>\n",
       "      <td>D.Prescott</td>\n",
       "      <td>14.771930</td>\n",
       "    </tr>\n",
       "    <tr>\n",
       "      <th>214</th>\n",
       "      <td>00-0033106</td>\n",
       "      <td>J.Goff</td>\n",
       "      <td>14.445946</td>\n",
       "    </tr>\n",
       "    <tr>\n",
       "      <th>35</th>\n",
       "      <td>00-0022942</td>\n",
       "      <td>P.Rivers</td>\n",
       "      <td>14.357143</td>\n",
       "    </tr>\n",
       "    <tr>\n",
       "      <th>157</th>\n",
       "      <td>00-0031280</td>\n",
       "      <td>D.Carr</td>\n",
       "      <td>14.339286</td>\n",
       "    </tr>\n",
       "    <tr>\n",
       "      <th>188</th>\n",
       "      <td>00-0032268</td>\n",
       "      <td>M.Mariota</td>\n",
       "      <td>13.941176</td>\n",
       "    </tr>\n",
       "    <tr>\n",
       "      <th>64</th>\n",
       "      <td>00-0026143</td>\n",
       "      <td>M.Ryan</td>\n",
       "      <td>13.465753</td>\n",
       "    </tr>\n",
       "    <tr>\n",
       "      <th>193</th>\n",
       "      <td>00-0032950</td>\n",
       "      <td>C.Wentz</td>\n",
       "      <td>13.222222</td>\n",
       "    </tr>\n",
       "    <tr>\n",
       "      <th>24</th>\n",
       "      <td>00-0022803</td>\n",
       "      <td>E.Manning</td>\n",
       "      <td>12.941176</td>\n",
       "    </tr>\n",
       "  </tbody>\n",
       "</table>\n",
       "</div>"
      ],
      "text/plain": [
       "      passer_id      passer        ypa\n",
       "116  00-0029263    R.Wilson  15.597403\n",
       "14   00-0020531     D.Brees  14.903226\n",
       "205  00-0033077  D.Prescott  14.771930\n",
       "214  00-0033106      J.Goff  14.445946\n",
       "35   00-0022942    P.Rivers  14.357143\n",
       "157  00-0031280      D.Carr  14.339286\n",
       "188  00-0032268   M.Mariota  13.941176\n",
       "64   00-0026143      M.Ryan  13.465753\n",
       "193  00-0032950     C.Wentz  13.222222\n",
       "24   00-0022803   E.Manning  12.941176"
      ]
     },
     "execution_count": 34,
     "metadata": {},
     "output_type": "execute_result"
    }
   ],
   "source": [
    "## 2018 YPA leaderboard\n",
    "pbp_py_p_s_pl.query('pass_length_air_yards == \"long\" & season == 2018')[\n",
    "    [\"passer_id\", \"passer\", \"ypa\"]\n",
    "].sort_values([\"ypa\"], ascending=False).head(10)"
   ]
  }
 ],
 "metadata": {
  "kernelspec": {
   "display_name": "football",
   "language": "python",
   "name": "python3"
  },
  "language_info": {
   "codemirror_mode": {
    "name": "ipython",
    "version": 3
   },
   "file_extension": ".py",
   "mimetype": "text/x-python",
   "name": "python",
   "nbconvert_exporter": "python",
   "pygments_lexer": "ipython3",
   "version": "3.12.0"
  }
 },
 "nbformat": 4,
 "nbformat_minor": 2
}
